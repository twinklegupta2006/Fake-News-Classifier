{
 "cells": [
  {
   "cell_type": "markdown",
   "id": "db4f3497-d0ce-46c2-a779-24b30553c11c",
   "metadata": {},
   "source": [
    "## Installations "
   ]
  },
  {
   "cell_type": "code",
   "execution_count": 3,
   "id": "beb80f89-7ea7-4ea3-99e4-8e944aa95a87",
   "metadata": {},
   "outputs": [
    {
     "name": "stdout",
     "output_type": "stream",
     "text": [
      "Collecting wordcloud\n",
      "  Downloading wordcloud-1.9.4-cp312-cp312-win_amd64.whl.metadata (3.5 kB)\n",
      "Requirement already satisfied: numpy>=1.6.1 in c:\\users\\hp\\documents\\anaconda\\lib\\site-packages (from wordcloud) (1.26.4)\n",
      "Requirement already satisfied: pillow in c:\\users\\hp\\documents\\anaconda\\lib\\site-packages (from wordcloud) (10.4.0)\n",
      "Requirement already satisfied: matplotlib in c:\\users\\hp\\documents\\anaconda\\lib\\site-packages (from wordcloud) (3.9.2)\n",
      "Requirement already satisfied: contourpy>=1.0.1 in c:\\users\\hp\\documents\\anaconda\\lib\\site-packages (from matplotlib->wordcloud) (1.2.0)\n",
      "Requirement already satisfied: cycler>=0.10 in c:\\users\\hp\\documents\\anaconda\\lib\\site-packages (from matplotlib->wordcloud) (0.11.0)\n",
      "Requirement already satisfied: fonttools>=4.22.0 in c:\\users\\hp\\documents\\anaconda\\lib\\site-packages (from matplotlib->wordcloud) (4.51.0)\n",
      "Requirement already satisfied: kiwisolver>=1.3.1 in c:\\users\\hp\\documents\\anaconda\\lib\\site-packages (from matplotlib->wordcloud) (1.4.4)\n",
      "Requirement already satisfied: packaging>=20.0 in c:\\users\\hp\\documents\\anaconda\\lib\\site-packages (from matplotlib->wordcloud) (24.1)\n",
      "Requirement already satisfied: pyparsing>=2.3.1 in c:\\users\\hp\\documents\\anaconda\\lib\\site-packages (from matplotlib->wordcloud) (3.1.2)\n",
      "Requirement already satisfied: python-dateutil>=2.7 in c:\\users\\hp\\documents\\anaconda\\lib\\site-packages (from matplotlib->wordcloud) (2.9.0.post0)\n",
      "Requirement already satisfied: six>=1.5 in c:\\users\\hp\\documents\\anaconda\\lib\\site-packages (from python-dateutil>=2.7->matplotlib->wordcloud) (1.16.0)\n",
      "Downloading wordcloud-1.9.4-cp312-cp312-win_amd64.whl (301 kB)\n",
      "Installing collected packages: wordcloud\n",
      "Successfully installed wordcloud-1.9.4\n"
     ]
    }
   ],
   "source": [
    "!pip install contractions -q\n",
    "!pip install wordcloud\n"
   ]
  },
  {
   "cell_type": "markdown",
   "id": "6617d8c7-2785-4bff-89a3-85cea5c2a093",
   "metadata": {},
   "source": [
    "## Imports "
   ]
  },
  {
   "cell_type": "code",
   "execution_count": 4,
   "id": "71ad3b3e-4fe4-4162-960a-d849c128816d",
   "metadata": {},
   "outputs": [
    {
     "name": "stderr",
     "output_type": "stream",
     "text": [
      "[nltk_data] Downloading package stopwords to C:\\Users\\HP/nltk_data...\n",
      "[nltk_data]   Unzipping corpora\\stopwords.zip.\n"
     ]
    }
   ],
   "source": [
    "import pandas as pd\n",
    "import matplotlib.pyplot as plt\n",
    "import seaborn as sns\n",
    "import numpy as np\n",
    "import re\n",
    "import string\n",
    "from wordcloud import WordCloud\n",
    "import nltk\n",
    "from collections import Counter\n",
    "import contractions\n",
    "from tqdm import tqdm\n",
    "\n",
    "\n",
    "import torch\n",
    "import torch.nn as nn\n",
    "from torch.utils.data import Dataset, DataLoader\n",
    "import torch.optim as optim\n",
    "from sklearn.metrics import accuracy_score, precision_score, recall_score, f1_score, confusion_matrix\n",
    "from sklearn.model_selection import train_test_split\n",
    "nltk.download('stopwords')\n",
    "from nltk.corpus import stopwords\n",
    "\n",
    "# Assuming you already have `df` (combined Fake and Real data)\n",
    "stop_words = set(stopwords.words(\"english\"))"
   ]
  },
  {
   "cell_type": "code",
   "execution_count": 5,
   "id": "1aa720ee-43f8-4e15-ac32-b6939d18dc32",
   "metadata": {},
   "outputs": [],
   "source": [
    "# Load datasets\n",
    "fake_df = pd.read_csv(r\"C:\\Users\\HP\\Documents\\FAke News Classifier\\Fake.csv\")\n",
    "real_df = pd.read_csv(r\"C:\\Users\\HP\\Documents\\FAke News Classifier\\True.csv\")"
   ]
  },
  {
   "cell_type": "code",
   "execution_count": 6,
   "id": "787c67a3-b5ee-4beb-9f62-daf4ccf860ee",
   "metadata": {},
   "outputs": [],
   "source": [
    "fake_df['label'] = 0\n",
    "real_df['label'] = 1\n",
    "\n",
    "\n",
    "df = pd.concat([fake_df, real_df], ignore_index=True)\n",
    "df = df.sample(frac=1, random_state=42).reset_index(drop=True)\n",
    "\n",
    "# Combine title and text\n",
    "df['combined_text'] = df['title'] + \" \" + df['text']"
   ]
  },
  {
   "cell_type": "code",
   "execution_count": 7,
   "id": "df89bdfb-c47f-475a-9e55-3c4e5954cd72",
   "metadata": {},
   "outputs": [],
   "source": [
    "def clean_text(text):\n",
    "    text = contractions.fix(text)                         # Expand contractions\n",
    "    text = text.encode(\"ascii\", errors=\"ignore\").decode() # Remove non-ASCII chars\n",
    "    text = text.lower()                                   # Lowercase\n",
    "    text = re.sub(r\"http\\S+|www.\\S+\", \"\", text)           # Remove URLs\n",
    "    text = re.sub(r\"<.*?>\", \"\", text)                     # Remove HTML tags\n",
    "    text = re.sub(r\"[^a-z\\s]\", \"\", text)                  # Keep only letters and spaces\n",
    "    text = re.sub(r\"\\b\\w{1}\\b\", \"\", text)                 # Remove single-letter words\n",
    "    text = re.sub(r\"\\s+\", \" \", text).strip()  \n",
    "# Remove extra spaces\n",
    "    words = text.split()\n",
    "    words = [word for word in words if word not in stop_words]  # Remove stopwords\n",
    "    return \" \".join(words)"
   ]
  },
  {
   "cell_type": "code",
   "execution_count": 8,
   "id": "41f5daf5-4adf-4f3a-bdb8-a5a290691aa7",
   "metadata": {},
   "outputs": [
    {
     "data": {
      "text/html": [
       "<div>\n",
       "<style scoped>\n",
       "    .dataframe tbody tr th:only-of-type {\n",
       "        vertical-align: middle;\n",
       "    }\n",
       "\n",
       "    .dataframe tbody tr th {\n",
       "        vertical-align: top;\n",
       "    }\n",
       "\n",
       "    .dataframe thead th {\n",
       "        text-align: right;\n",
       "    }\n",
       "</style>\n",
       "<table border=\"1\" class=\"dataframe\">\n",
       "  <thead>\n",
       "    <tr style=\"text-align: right;\">\n",
       "      <th></th>\n",
       "      <th>clean_text</th>\n",
       "      <th>label</th>\n",
       "    </tr>\n",
       "  </thead>\n",
       "  <tbody>\n",
       "    <tr>\n",
       "      <th>0</th>\n",
       "      <td>ben stein calls th circuit court committed cou...</td>\n",
       "      <td>0</td>\n",
       "    </tr>\n",
       "    <tr>\n",
       "      <th>1</th>\n",
       "      <td>trump drops steve bannon national security cou...</td>\n",
       "      <td>1</td>\n",
       "    </tr>\n",
       "    <tr>\n",
       "      <th>2</th>\n",
       "      <td>puerto rico expects yous lift jones act shippi...</td>\n",
       "      <td>1</td>\n",
       "    </tr>\n",
       "    <tr>\n",
       "      <th>3</th>\n",
       "      <td>oops trump accidentally confirmed leaked israe...</td>\n",
       "      <td>0</td>\n",
       "    </tr>\n",
       "    <tr>\n",
       "      <th>4</th>\n",
       "      <td>donald trump heads scotland reopen golf resort...</td>\n",
       "      <td>1</td>\n",
       "    </tr>\n",
       "  </tbody>\n",
       "</table>\n",
       "</div>"
      ],
      "text/plain": [
       "                                          clean_text  label\n",
       "0  ben stein calls th circuit court committed cou...      0\n",
       "1  trump drops steve bannon national security cou...      1\n",
       "2  puerto rico expects yous lift jones act shippi...      1\n",
       "3  oops trump accidentally confirmed leaked israe...      0\n",
       "4  donald trump heads scotland reopen golf resort...      1"
      ]
     },
     "execution_count": 8,
     "metadata": {},
     "output_type": "execute_result"
    }
   ],
   "source": [
    "df['clean_text'] = df['combined_text'].apply(clean_text)\n",
    "df[['clean_text', 'label']].head()"
   ]
  },
  {
   "cell_type": "code",
   "execution_count": 9,
   "id": "7bae30f7-e675-43ce-a839-898ce3ec8b72",
   "metadata": {},
   "outputs": [
    {
     "data": {
      "image/png": "[encoded data removed]",
      "text/plain": [
       "<Figure size 640x480 with 1 Axes>"
      ]
     },
     "metadata": {},
     "output_type": "display_data"
    }
   ],
   "source": [
    "sns.countplot(x=\"label\", data=df)\n",
    "plt.xticks([0, 1], [\"Fake\", \"Real\"])\n",
    "plt.title(\"Distribution of News Classes\")\n",
    "plt.xlabel(\"Label\")\n",
    "plt.ylabel(\"Count\")\n",
    "plt.show()"
   ]
  },
  {
   "cell_type": "code",
   "execution_count": 10,
   "id": "4fbd9b95-e923-49e6-a5de-de88cefc519b",
   "metadata": {},
   "outputs": [
    {
     "data": {
      "image/png": "[encoded data removed]",
      "text/plain": [
       "<Figure size 1000x500 with 1 Axes>"
      ]
     },
     "metadata": {},
     "output_type": "display_data"
    }
   ],
   "source": [
    "plt.figure(figsize=(10, 5))\n",
    "sns.countplot(data=df, x=\"subject\", order=df[\"subject\"].value_counts().index)\n",
    "plt.title(\"Distribution of News Subjects\")\n",
    "plt.xticks(rotation=45)\n",
    "plt.show()"
   ]
  },
  {
   "cell_type": "code",
   "execution_count": 11,
   "id": "3bbabe7c-dcc9-46e9-a94d-81aa1c509dcf",
   "metadata": {},
   "outputs": [
    {
     "data": {
      "image/png": "[encoded data removed]",
      "text/plain": [
       "<Figure size 640x480 with 1 Axes>"
      ]
     },
     "metadata": {},
     "output_type": "display_data"
    },
    {
     "data": {
      "image/png": "[encoded data removed]",
      "text/plain": [
       "<Figure size 640x480 with 1 Axes>"
      ]
     },
     "metadata": {},
     "output_type": "display_data"
    }
   ],
   "source": [
    "df[\"text_length\"] = df[\"clean_text\"].apply(lambda x: len(x.split()))\n",
    "df[\"char_length\"] = df[\"clean_text\"].apply(len)\n",
    "\n",
    "# Word count\n",
    "sns.histplot(df[\"text_length\"], bins=50, kde=True)\n",
    "plt.title(\"Distribution of Word Counts in Articles\")\n",
    "plt.xlabel(\"Word Count\")\n",
    "plt.ylabel(\"Frequency\")\n",
    "plt.show()\n",
    "\n",
    "# Character count\n",
    "sns.histplot(df[\"char_length\"], bins=50, kde=True, color='orange')\n",
    "plt.title(\"Distribution of Character Counts in Articles\")\n",
    "plt.xlabel(\"Character Count\")\n",
    "plt.ylabel(\"Frequency\")\n",
    "plt.show()\n"
   ]
  },
  {
   "cell_type": "code",
   "execution_count": 12,
   "id": "4c7e6fd4-56cd-420b-a81f-112ef0f2a65b",
   "metadata": {},
   "outputs": [
    {
     "data": {
      "text/html": [
       "<div>\n",
       "<style scoped>\n",
       "    .dataframe tbody tr th:only-of-type {\n",
       "        vertical-align: middle;\n",
       "    }\n",
       "\n",
       "    .dataframe tbody tr th {\n",
       "        vertical-align: top;\n",
       "    }\n",
       "\n",
       "    .dataframe thead th {\n",
       "        text-align: right;\n",
       "    }\n",
       "</style>\n",
       "<table border=\"1\" class=\"dataframe\">\n",
       "  <thead>\n",
       "    <tr style=\"text-align: right;\">\n",
       "      <th></th>\n",
       "      <th>title</th>\n",
       "      <th>text</th>\n",
       "      <th>subject</th>\n",
       "      <th>date</th>\n",
       "      <th>label</th>\n",
       "      <th>combined_text</th>\n",
       "      <th>clean_text</th>\n",
       "      <th>text_length</th>\n",
       "      <th>char_length</th>\n",
       "    </tr>\n",
       "  </thead>\n",
       "  <tbody>\n",
       "    <tr>\n",
       "      <th>0</th>\n",
       "      <td>Ben Stein Calls Out 9th Circuit Court: Committ...</td>\n",
       "      <td>21st Century Wire says Ben Stein, reputable pr...</td>\n",
       "      <td>US_News</td>\n",
       "      <td>February 13, 2017</td>\n",
       "      <td>0</td>\n",
       "      <td>Ben Stein Calls Out 9th Circuit Court: Committ...</td>\n",
       "      <td>ben stein calls th circuit court committed cou...</td>\n",
       "      <td>109</td>\n",
       "      <td>802</td>\n",
       "    </tr>\n",
       "    <tr>\n",
       "      <th>1</th>\n",
       "      <td>Trump drops Steve Bannon from National Securit...</td>\n",
       "      <td>WASHINGTON (Reuters) - U.S. President Donald T...</td>\n",
       "      <td>politicsNews</td>\n",
       "      <td>April 5, 2017</td>\n",
       "      <td>1</td>\n",
       "      <td>Trump drops Steve Bannon from National Securit...</td>\n",
       "      <td>trump drops steve bannon national security cou...</td>\n",
       "      <td>472</td>\n",
       "      <td>3613</td>\n",
       "    </tr>\n",
       "    <tr>\n",
       "      <th>2</th>\n",
       "      <td>Puerto Rico expects U.S. to lift Jones Act shi...</td>\n",
       "      <td>(Reuters) - Puerto Rico Governor Ricardo Rosse...</td>\n",
       "      <td>politicsNews</td>\n",
       "      <td>September 27, 2017</td>\n",
       "      <td>1</td>\n",
       "      <td>Puerto Rico expects U.S. to lift Jones Act shi...</td>\n",
       "      <td>puerto rico expects yous lift jones act shippi...</td>\n",
       "      <td>182</td>\n",
       "      <td>1347</td>\n",
       "    </tr>\n",
       "    <tr>\n",
       "      <th>3</th>\n",
       "      <td>OOPS: Trump Just Accidentally Confirmed He Le...</td>\n",
       "      <td>On Monday, Donald Trump once again embarrassed...</td>\n",
       "      <td>News</td>\n",
       "      <td>May 22, 2017</td>\n",
       "      <td>0</td>\n",
       "      <td>OOPS: Trump Just Accidentally Confirmed He Le...</td>\n",
       "      <td>oops trump accidentally confirmed leaked israe...</td>\n",
       "      <td>114</td>\n",
       "      <td>943</td>\n",
       "    </tr>\n",
       "    <tr>\n",
       "      <th>4</th>\n",
       "      <td>Donald Trump heads for Scotland to reopen a go...</td>\n",
       "      <td>GLASGOW, Scotland (Reuters) - Most U.S. presid...</td>\n",
       "      <td>politicsNews</td>\n",
       "      <td>June 24, 2016</td>\n",
       "      <td>1</td>\n",
       "      <td>Donald Trump heads for Scotland to reopen a go...</td>\n",
       "      <td>donald trump heads scotland reopen golf resort...</td>\n",
       "      <td>305</td>\n",
       "      <td>2278</td>\n",
       "    </tr>\n",
       "    <tr>\n",
       "      <th>...</th>\n",
       "      <td>...</td>\n",
       "      <td>...</td>\n",
       "      <td>...</td>\n",
       "      <td>...</td>\n",
       "      <td>...</td>\n",
       "      <td>...</td>\n",
       "      <td>...</td>\n",
       "      <td>...</td>\n",
       "      <td>...</td>\n",
       "    </tr>\n",
       "    <tr>\n",
       "      <th>44893</th>\n",
       "      <td>UNREAL! CBS’S TED KOPPEL Tells Sean Hannity He...</td>\n",
       "      <td></td>\n",
       "      <td>politics</td>\n",
       "      <td>Mar 27, 2017</td>\n",
       "      <td>0</td>\n",
       "      <td>UNREAL! CBS’S TED KOPPEL Tells Sean Hannity He...</td>\n",
       "      <td>unreal cbss ted koppel tells sean hannity bad ...</td>\n",
       "      <td>10</td>\n",
       "      <td>59</td>\n",
       "    </tr>\n",
       "    <tr>\n",
       "      <th>44894</th>\n",
       "      <td>PM May seeks to ease Japan's Brexit fears duri...</td>\n",
       "      <td>LONDON/TOKYO (Reuters) - British Prime Ministe...</td>\n",
       "      <td>worldnews</td>\n",
       "      <td>August 29, 2017</td>\n",
       "      <td>1</td>\n",
       "      <td>PM May seeks to ease Japan's Brexit fears duri...</td>\n",
       "      <td>pm may seeks ease japans brexit fears trade vi...</td>\n",
       "      <td>429</td>\n",
       "      <td>3224</td>\n",
       "    </tr>\n",
       "    <tr>\n",
       "      <th>44895</th>\n",
       "      <td>Merkel: Difficult German coalition talks can r...</td>\n",
       "      <td>BERLIN (Reuters) - Chancellor Angela Merkel sa...</td>\n",
       "      <td>worldnews</td>\n",
       "      <td>November 16, 2017</td>\n",
       "      <td>1</td>\n",
       "      <td>Merkel: Difficult German coalition talks can r...</td>\n",
       "      <td>merkel difficult german coalition talks reach ...</td>\n",
       "      <td>45</td>\n",
       "      <td>341</td>\n",
       "    </tr>\n",
       "    <tr>\n",
       "      <th>44896</th>\n",
       "      <td>Trump Stole An Idea From North Korean Propaga...</td>\n",
       "      <td>Jesus f*cking Christ our President* is a moron...</td>\n",
       "      <td>News</td>\n",
       "      <td>July 14, 2017</td>\n",
       "      <td>0</td>\n",
       "      <td>Trump Stole An Idea From North Korean Propaga...</td>\n",
       "      <td>trump stole idea north korean propaganda parod...</td>\n",
       "      <td>480</td>\n",
       "      <td>3279</td>\n",
       "    </tr>\n",
       "    <tr>\n",
       "      <th>44897</th>\n",
       "      <td>BREAKING: HILLARY CLINTON’S STATE DEPARTMENT G...</td>\n",
       "      <td>IF SHE S NOT TOAST NOW THEN WE RE IN BIGGER TR...</td>\n",
       "      <td>politics</td>\n",
       "      <td>Apr 23, 2015</td>\n",
       "      <td>0</td>\n",
       "      <td>BREAKING: HILLARY CLINTON’S STATE DEPARTMENT G...</td>\n",
       "      <td>breaking hillary clintons state department gav...</td>\n",
       "      <td>149</td>\n",
       "      <td>1127</td>\n",
       "    </tr>\n",
       "  </tbody>\n",
       "</table>\n",
       "<p>44898 rows × 9 columns</p>\n",
       "</div>"
      ],
      "text/plain": [
       "                                                   title  \\\n",
       "0      Ben Stein Calls Out 9th Circuit Court: Committ...   \n",
       "1      Trump drops Steve Bannon from National Securit...   \n",
       "2      Puerto Rico expects U.S. to lift Jones Act shi...   \n",
       "3       OOPS: Trump Just Accidentally Confirmed He Le...   \n",
       "4      Donald Trump heads for Scotland to reopen a go...   \n",
       "...                                                  ...   \n",
       "44893  UNREAL! CBS’S TED KOPPEL Tells Sean Hannity He...   \n",
       "44894  PM May seeks to ease Japan's Brexit fears duri...   \n",
       "44895  Merkel: Difficult German coalition talks can r...   \n",
       "44896   Trump Stole An Idea From North Korean Propaga...   \n",
       "44897  BREAKING: HILLARY CLINTON’S STATE DEPARTMENT G...   \n",
       "\n",
       "                                                    text       subject  \\\n",
       "0      21st Century Wire says Ben Stein, reputable pr...       US_News   \n",
       "1      WASHINGTON (Reuters) - U.S. President Donald T...  politicsNews   \n",
       "2      (Reuters) - Puerto Rico Governor Ricardo Rosse...  politicsNews   \n",
       "3      On Monday, Donald Trump once again embarrassed...          News   \n",
       "4      GLASGOW, Scotland (Reuters) - Most U.S. presid...  politicsNews   \n",
       "...                                                  ...           ...   \n",
       "44893                                                         politics   \n",
       "44894  LONDON/TOKYO (Reuters) - British Prime Ministe...     worldnews   \n",
       "44895  BERLIN (Reuters) - Chancellor Angela Merkel sa...     worldnews   \n",
       "44896  Jesus f*cking Christ our President* is a moron...          News   \n",
       "44897  IF SHE S NOT TOAST NOW THEN WE RE IN BIGGER TR...      politics   \n",
       "\n",
       "                      date  label  \\\n",
       "0        February 13, 2017      0   \n",
       "1           April 5, 2017       1   \n",
       "2      September 27, 2017       1   \n",
       "3             May 22, 2017      0   \n",
       "4           June 24, 2016       1   \n",
       "...                    ...    ...   \n",
       "44893         Mar 27, 2017      0   \n",
       "44894     August 29, 2017       1   \n",
       "44895   November 16, 2017       1   \n",
       "44896        July 14, 2017      0   \n",
       "44897         Apr 23, 2015      0   \n",
       "\n",
       "                                           combined_text  \\\n",
       "0      Ben Stein Calls Out 9th Circuit Court: Committ...   \n",
       "1      Trump drops Steve Bannon from National Securit...   \n",
       "2      Puerto Rico expects U.S. to lift Jones Act shi...   \n",
       "3       OOPS: Trump Just Accidentally Confirmed He Le...   \n",
       "4      Donald Trump heads for Scotland to reopen a go...   \n",
       "...                                                  ...   \n",
       "44893  UNREAL! CBS’S TED KOPPEL Tells Sean Hannity He...   \n",
       "44894  PM May seeks to ease Japan's Brexit fears duri...   \n",
       "44895  Merkel: Difficult German coalition talks can r...   \n",
       "44896   Trump Stole An Idea From North Korean Propaga...   \n",
       "44897  BREAKING: HILLARY CLINTON’S STATE DEPARTMENT G...   \n",
       "\n",
       "                                              clean_text  text_length  \\\n",
       "0      ben stein calls th circuit court committed cou...          109   \n",
       "1      trump drops steve bannon national security cou...          472   \n",
       "2      puerto rico expects yous lift jones act shippi...          182   \n",
       "3      oops trump accidentally confirmed leaked israe...          114   \n",
       "4      donald trump heads scotland reopen golf resort...          305   \n",
       "...                                                  ...          ...   \n",
       "44893  unreal cbss ted koppel tells sean hannity bad ...           10   \n",
       "44894  pm may seeks ease japans brexit fears trade vi...          429   \n",
       "44895  merkel difficult german coalition talks reach ...           45   \n",
       "44896  trump stole idea north korean propaganda parod...          480   \n",
       "44897  breaking hillary clintons state department gav...          149   \n",
       "\n",
       "       char_length  \n",
       "0              802  \n",
       "1             3613  \n",
       "2             1347  \n",
       "3              943  \n",
       "4             2278  \n",
       "...            ...  \n",
       "44893           59  \n",
       "44894         3224  \n",
       "44895          341  \n",
       "44896         3279  \n",
       "44897         1127  \n",
       "\n",
       "[44898 rows x 9 columns]"
      ]
     },
     "execution_count": 12,
     "metadata": {},
     "output_type": "execute_result"
    }
   ],
   "source": [
    "df"
   ]
  },
  {
   "cell_type": "markdown",
   "id": "31b8bf28-506a-4c8c-a623-777510375ed5",
   "metadata": {},
   "source": [
    "## Text Tokenization \n"
   ]
  },
  {
   "cell_type": "code",
   "execution_count": 14,
   "id": "2e94645e-5d22-479a-9556-3e688e1947fa",
   "metadata": {},
   "outputs": [],
   "source": [
    "tokenized_texts = [text.split() for text in df['clean_text']]"
   ]
  },
  {
   "cell_type": "code",
   "execution_count": 15,
   "id": "1fae56a1-0404-429c-90fb-5a5f2d80bd4b",
   "metadata": {},
   "outputs": [],
   "source": [
    "# Build vocabulary\n",
    "word_counter = Counter(word for tokens in tokenized_texts for word in tokens)\n",
    "vocab_size = 10000  # Limit vocab size\n",
    "most_common = word_counter.most_common(vocab_size - 2)"
   ]
  },
  {
   "cell_type": "code",
   "execution_count": 16,
   "id": "54c82d2a-b90c-4538-9752-3bd59689503f",
   "metadata": {},
   "outputs": [],
   "source": [
    "# Create word-to-index mappings\n",
    "word2idx = {word: idx + 2 for idx, (word, _) in enumerate(most_common)}\n",
    "word2idx[\"<PAD>\"] = 0\n",
    "word2idx[\"<UNK>\"] = 1\n",
    "idx2word = {idx: word for word, idx in word2idx.items()}"
   ]
  },
  {
   "cell_type": "markdown",
   "id": "cb4a94e0-aaae-4ab2-95a0-add6506558d6",
   "metadata": {},
   "source": [
    "## Dataset Preparation"
   ]
  },
  {
   "cell_type": "code",
   "execution_count": 17,
   "id": "4eefb380-749c-4267-b6aa-e79a81394ea4",
   "metadata": {},
   "outputs": [],
   "source": [
    "# Function to convert tokens to indices\n",
    "def encode(tokens, word2idx, max_len):\n",
    "    ids = [word2idx.get(word, word2idx[\"<UNK>\"]) for word in tokens]\n",
    "    if len(ids) < max_len:\n",
    "        ids += [word2idx[\"<PAD>\"]] * (max_len - len(ids))\n",
    "    else:\n",
    "        ids = ids[:max_len]\n",
    "    return ids"
   ]
  },
  {
   "cell_type": "code",
   "execution_count": 18,
   "id": "034a85f6-9aa0-4ddb-ae23-144f644ee568",
   "metadata": {},
   "outputs": [],
   "source": [
    "max_len = 300\n",
    "encoded_texts = [encode(tokens, word2idx, max_len) for tokens in tokenized_texts]\n",
    "labels = df['label'].values"
   ]
  },
  {
   "cell_type": "code",
   "execution_count": 20,
   "id": "87b6afab-cf52-4868-ac4f-0cc481715334",
   "metadata": {},
   "outputs": [],
   "source": [
    "# Create the custom dataset\n",
    "class NewsDataset(Dataset):\n",
    "    def __init__(self, inputs, labels):\n",
    "        self.inputs = torch.tensor(inputs, dtype=torch.long)\n",
    "        self.labels = torch.tensor(labels, dtype=torch.float32)\n",
    "\n",
    "    def __len__(self):\n",
    "        return len(self.labels)\n",
    "\n",
    "    def __getitem__(self, idx):\n",
    "        return self.inputs[idx], self.labels[idx]"
   ]
  },
  {
   "cell_type": "code",
   "execution_count": 21,
   "id": "95655faa-aa0e-4b33-a5c8-55d2882f8c81",
   "metadata": {},
   "outputs": [],
   "source": [
    "# Step 1: First split → train (70%) and temp (30%)\n",
    "X_train, X_temp, y_train, y_temp = train_test_split(\n",
    "    encoded_texts, labels, test_size=0.30, random_state=42, stratify=labels\n",
    ")\n",
    "\n",
    "# Step 2: Split temp into validation (15%) and test (15%)\n",
    "X_val, X_test, y_val, y_test = train_test_split(\n",
    "    X_temp, y_temp, test_size=0.50, random_state=42, stratify=y_temp\n",
    ")"
   ]
  },
  {
   "cell_type": "code",
   "execution_count": 22,
   "id": "59ed6410-8ace-4e87-a34d-68953e071683",
   "metadata": {},
   "outputs": [],
   "source": [
    "# Create datasets\n",
    "train_dataset = NewsDataset(X_train, y_train)\n",
    "val_dataset   = NewsDataset(X_val, y_val)\n",
    "test_dataset  = NewsDataset(X_test, y_test)"
   ]
  },
  {
   "cell_type": "code",
   "execution_count": 23,
   "id": "5c76ee6b-ca48-4d91-83ce-f191fe85c3da",
   "metadata": {},
   "outputs": [
    {
     "data": {
      "text/plain": [
       "(tensor([4420, 1918,   39,  516,   35,   88, 9491,  127,   70,    3, 2898,   24,\n",
       "            8,  413, 1348,  306,   70,    3,  412, 1918,  965,  127,   70,   14,\n",
       "            3, 3105,  132,    1,    1,  934,    1,  757,  826,   38,  706, 2618,\n",
       "           19,  318,   86,  115, 2090,   36, 1174,    1, 3299,    3,  909,  353,\n",
       "          465, 1596,   38, 1334,   32,    1,  350,   27,   34,    1, 6685,  111,\n",
       "          374,  411,  227,   39,   24,   22,   16, 2678,  432,    5,  750,   64,\n",
       "            7,   50,  589,  153,   22,   16,    1,    2,   78, 4546,  219,    1,\n",
       "          295,  560,   56,  476,   55,   90,  997,  182, 3458,   70,    3,  153,\n",
       "         1549,   58,  412,  757, 3127,   88,   15,    1, 2240,  300, 2017,  135,\n",
       "          836, 1767,  685, 4673, 3268,  477,  801,    1, 5532,  412, 1711,  709,\n",
       "           61,   15,  580,  745, 2952,   30,   35,  934,  125,   10,   11, 1091,\n",
       "          469, 1347,  135,  169, 1217, 2188,  745,    6,  258, 1711,   42,   11,\n",
       "           15,  685,    1,   15, 1935,    1, 7253,  697,  635, 1088, 1627, 8995,\n",
       "           15,  685, 1845,    8,   35,  163, 2066, 9551, 5980,  934,  720,    9,\n",
       "          130,  379, 1689, 3989,    1,   61,   15, 1165,   33,    1,  412, 1918,\n",
       "            1, 2807,    1,  799,    1,  587, 1879, 7769,   15,  685,  397,    1,\n",
       "         3064,  935, 8670,   61,   15,   62, 5832,  281, 2142, 1827,  110,   88,\n",
       "          412, 3557,    1,  268, 9592,  379,   36, 1174,  849,  110,    1,  757,\n",
       "           18, 3050,  481,  935,    1,  455,  944,  223, 2482, 2627,  538,    1,\n",
       "          944,  525,    1, 3399, 7667,  953,   26,   87,  492, 2057,    0,    0,\n",
       "            0,    0,    0,    0,    0,    0,    0,    0,    0,    0,    0,    0,\n",
       "            0,    0,    0,    0,    0,    0,    0,    0,    0,    0,    0,    0,\n",
       "            0,    0,    0,    0,    0,    0,    0,    0,    0,    0,    0,    0,\n",
       "            0,    0,    0,    0,    0,    0,    0,    0,    0,    0,    0,    0,\n",
       "            0,    0,    0,    0,    0,    0,    0,    0,    0,    0,    0,    0]),\n",
       " tensor(0.))"
      ]
     },
     "execution_count": 23,
     "metadata": {},
     "output_type": "execute_result"
    }
   ],
   "source": [
    "train_dataset[0]"
   ]
  },
  {
   "cell_type": "code",
   "execution_count": 24,
   "id": "0b8f5c65-dfa4-4754-ba82-4f02ece4a830",
   "metadata": {},
   "outputs": [],
   "source": [
    "# Create data loaders\n",
    "batch_size = 32\n",
    "\n",
    "train_loader = DataLoader(train_dataset, batch_size=batch_size, shuffle=True)\n",
    "val_loader   = DataLoader(val_dataset, batch_size=batch_size, shuffle=False)\n",
    "test_loader  = DataLoader(test_dataset, batch_size=batch_size, shuffle=False)"
   ]
  },
  {
   "cell_type": "code",
   "execution_count": 25,
   "id": "851cc69b-cdbe-42a4-9a59-bc7d766c2e69",
   "metadata": {},
   "outputs": [],
   "source": [
    "class LSTMClassifier(nn.Module):\n",
    "    def __init__(self, vocab_size, embedding_dim=100, hidden_dim=128, num_layers=1, dropout=0.5, bidirectional=True):\n",
    "        super(LSTMClassifier, self).__init__()\n",
    "        self.embedding = nn.Embedding(vocab_size, embedding_dim, padding_idx=0)\n",
    "        self.lstm = nn.LSTM(\n",
    "            input_size=embedding_dim,\n",
    "            hidden_size=hidden_dim,\n",
    "            num_layers=num_layers,\n",
    "            batch_first=True,\n",
    "            bidirectional=bidirectional,\n",
    "            dropout=dropout if num_layers > 1 else 0\n",
    "        )\n",
    "        self.dropout = nn.Dropout(dropout)\n",
    "        self.fc = nn.Linear(hidden_dim * (2 if bidirectional else 1), 1)\n",
    "        self.sigmoid = nn.Sigmoid()\n",
    "\n",
    "    def forward(self, x):\n",
    "        embedded = self.embedding(x)  # [batch_size, seq_len, embed_dim]\n",
    "        lstm_out, _ = self.lstm(embedded)  # lstm_out: [batch_size, seq_len, hidden_dim * num_directions]\n",
    "        # Take last hidden state (can use mean or max pooling too)\n",
    "        last_hidden = lstm_out[:, -1, :]  # [batch_size, hidden_dim * num_directions]\n",
    "        out = self.dropout(last_hidden)\n",
    "        out = self.fc(out)\n",
    "        return self.sigmoid(out).squeeze()"
   ]
  },
  {
   "cell_type": "code",
   "execution_count": 26,
   "id": "dd1b17f0-09f2-4b78-b0ff-d954aabad480",
   "metadata": {},
   "outputs": [],
   "source": [
    "model = LSTMClassifier(\n",
    "    vocab_size=len(word2idx),\n",
    "    embedding_dim=100,\n",
    "    hidden_dim=128,\n",
    "    num_layers=1,\n",
    "    dropout=0.5,\n",
    "    bidirectional=True\n",
    ")"
   ]
  },
  {
   "cell_type": "markdown",
   "id": "91b1deda-30c2-49f5-b3a6-db42a0209192",
   "metadata": {},
   "source": [
    "## Model Training  "
   ]
  },
  {
   "cell_type": "code",
   "execution_count": 60,
   "id": "40a2e58c-7a24-4475-a6ba-f35ee4517d6c",
   "metadata": {},
   "outputs": [],
   "source": [
    "# Loss function\n",
    "criterion = nn.BCELoss()\n",
    "\n",
    "# Optimizer\n",
    "optimizer = optim.Adam(model.parameters(), lr=1e-3)\n",
    "num_epochs = 10"
   ]
  },
  {
   "cell_type": "code",
   "execution_count": 61,
   "id": "5a4fc582-0588-436c-94ab-a23b0cf37019",
   "metadata": {},
   "outputs": [
    {
     "name": "stderr",
     "output_type": "stream",
     "text": [
      "                                                                                                                       \r"
     ]
    },
    {
     "name": "stdout",
     "output_type": "stream",
     "text": [
      "[Epoch 1] Train Loss: 0.0032 | Train Acc: 0.9994 | Val Loss: 0.0047 | Val Acc: 0.9994\n"
     ]
    },
    {
     "name": "stderr",
     "output_type": "stream",
     "text": [
      "                                                                                                                       \r"
     ]
    },
    {
     "name": "stdout",
     "output_type": "stream",
     "text": [
      "[Epoch 2] Train Loss: 0.0015 | Train Acc: 0.9998 | Val Loss: 0.0021 | Val Acc: 0.9997\n"
     ]
    },
    {
     "name": "stderr",
     "output_type": "stream",
     "text": [
      "                                                                                                                       \r"
     ]
    },
    {
     "name": "stdout",
     "output_type": "stream",
     "text": [
      "[Epoch 3] Train Loss: 0.0005 | Train Acc: 0.9999 | Val Loss: 0.0022 | Val Acc: 0.9991\n"
     ]
    },
    {
     "name": "stderr",
     "output_type": "stream",
     "text": [
      "                                                                                                                       \r"
     ]
    },
    {
     "name": "stdout",
     "output_type": "stream",
     "text": [
      "[Epoch 4] Train Loss: 0.0003 | Train Acc: 1.0000 | Val Loss: 0.0027 | Val Acc: 0.9996\n"
     ]
    },
    {
     "name": "stderr",
     "output_type": "stream",
     "text": [
      "                                                                                                                       \r"
     ]
    },
    {
     "name": "stdout",
     "output_type": "stream",
     "text": [
      "[Epoch 5] Train Loss: 0.0010 | Train Acc: 0.9997 | Val Loss: 0.0041 | Val Acc: 0.9991\n"
     ]
    },
    {
     "name": "stderr",
     "output_type": "stream",
     "text": [
      "                                                                                                                       \r"
     ]
    },
    {
     "name": "stdout",
     "output_type": "stream",
     "text": [
      "[Epoch 6] Train Loss: 0.0214 | Train Acc: 0.9968 | Val Loss: 0.0135 | Val Acc: 0.9966\n"
     ]
    },
    {
     "name": "stderr",
     "output_type": "stream",
     "text": [
      "                                                                                                                       \r"
     ]
    },
    {
     "name": "stdout",
     "output_type": "stream",
     "text": [
      "[Epoch 7] Train Loss: 0.0033 | Train Acc: 0.9993 | Val Loss: 0.0051 | Val Acc: 0.9982\n"
     ]
    },
    {
     "name": "stderr",
     "output_type": "stream",
     "text": [
      "                                                                                                                       \r"
     ]
    },
    {
     "name": "stdout",
     "output_type": "stream",
     "text": [
      "[Epoch 8] Train Loss: 0.0053 | Train Acc: 0.9990 | Val Loss: 0.0128 | Val Acc: 0.9972\n"
     ]
    },
    {
     "name": "stderr",
     "output_type": "stream",
     "text": [
      "                                                                                                                       \r"
     ]
    },
    {
     "name": "stdout",
     "output_type": "stream",
     "text": [
      "[Epoch 9] Train Loss: 0.0032 | Train Acc: 0.9996 | Val Loss: 0.0122 | Val Acc: 0.9973\n"
     ]
    },
    {
     "name": "stderr",
     "output_type": "stream",
     "text": [
      "                                                                                                                       \r"
     ]
    },
    {
     "name": "stdout",
     "output_type": "stream",
     "text": [
      "[Epoch 10] Train Loss: 0.0017 | Train Acc: 0.9997 | Val Loss: 0.0112 | Val Acc: 0.9978\n"
     ]
    }
   ],
   "source": [
    "# Initialize tracking lists\n",
    "train_losses = []\n",
    "val_losses = []\n",
    "train_accuracies = []\n",
    "val_accuracies = []\n",
    "\n",
    "for epoch in range(num_epochs):\n",
    "    model.train()\n",
    "    train_loss = 0.0\n",
    "    correct, total = 0, 0\n",
    "\n",
    "    loop = tqdm(train_loader, desc=f\"Epoch {epoch+1}/{num_epochs}\", leave=False)\n",
    "    for inputs, labels in loop:\n",
    "        inputs, labels = inputs.to(device), labels.to(device)\n",
    "\n",
    "        optimizer.zero_grad()\n",
    "        outputs = model(inputs)\n",
    "\n",
    "        loss = criterion(outputs, labels)\n",
    "        loss.backward()\n",
    "        optimizer.step()\n",
    "\n",
    "        train_loss += loss.item() * inputs.size(0)\n",
    "\n",
    "        preds = (outputs >= 0.5).float()\n",
    "        correct += (preds == labels).sum().item()\n",
    "        total += labels.size(0)\n",
    "\n",
    "        # Update progress bar\n",
    "        loop.set_postfix(loss=loss.item())\n",
    "\n",
    "    train_acc = correct / total\n",
    "    avg_train_loss = train_loss / total\n",
    "\n",
    "    # Validation\n",
    "    model.eval()\n",
    "    val_loss, val_correct, val_total = 0.0, 0, 0\n",
    "    with torch.no_grad():\n",
    "         val_loop = tqdm(val_loader, desc=\"Validation\", leave=False)\n",
    "         for inputs, labels in val_loop:\n",
    "             inputs, labels = inputs.to(device), labels.to(device)\n",
    "             outputs = model(inputs)\n",
    "\n",
    "             loss = criterion(outputs, labels)\n",
    "             val_loss += loss.item() * inputs.size(0)\n",
    "\n",
    "             preds = (outputs >= 0.5).float()\n",
    "             val_correct += (preds == labels).sum().item()\n",
    "             val_total += labels.size(0)\n",
    "\n",
    "             val_loop.set_postfix(val_loss=loss.item())\n",
    "\n",
    "    val_acc = val_correct / val_total\n",
    "    avg_val_loss = val_loss / val_total\n",
    "    \n",
    "\n",
    "    # Epoch summary\n",
    "    print(f\"[Epoch {epoch+1}] Train Loss: {avg_train_loss:.4f} | Train Acc: {train_acc:.4f} | Val Loss: {avg_val_loss:.4f} | Val Acc: {val_acc:.4f}\")"
   ]
  },
  {
   "cell_type": "markdown",
   "id": "430ce9c5-4548-4b92-9a03-c748b200feec",
   "metadata": {},
   "source": [
    "## Model evaluation "
   ]
  },
  {
   "cell_type": "code",
   "execution_count": 46,
   "id": "710887fc-725e-4ca1-97bb-b97c790f7d0f",
   "metadata": {},
   "outputs": [],
   "source": [
    "def evaluate_model(model, dataloader, device, title=\"Confusion Matrix\"):\n",
    "    model.eval()\n",
    "    all_preds = []\n",
    "    all_labels = []\n",
    "\n",
    "    with torch.no_grad():\n",
    "        for inputs, labels in tqdm(dataloader, desc=\"Evaluating\", leave=False):\n",
    "            inputs = inputs.to(device)\n",
    "            labels = labels.to(device)\n",
    "            \n",
    "            outputs = model(inputs)\n",
    "            probs = torch.sigmoid(outputs)  # Add this\n",
    "            preds = (probs >= 0.5).float()  # Use probability to threshold\n",
    "\n",
    "            all_preds.extend(preds.cpu().numpy())\n",
    "            all_labels.extend(labels.cpu().numpy())\n",
    "\n",
    "    # Convert to numpy arrays\n",
    "    all_preds = np.array(all_preds)\n",
    "    all_labels = np.array(all_labels)\n",
    "\n",
    "    # Compute evaluation metrics\n",
    "    acc  = accuracy_score(all_labels, all_preds)\n",
    "    prec = precision_score(all_labels, all_preds)\n",
    "    rec  = recall_score(all_labels, all_preds)\n",
    "    f1   = f1_score(all_labels, all_preds)\n",
    "\n",
    "    print(f\"Evaluation Metrics:\")\n",
    "    print(f\"Accuracy : {acc:.4f}\")\n",
    "    print(f\"Precision: {prec:.4f}\")\n",
    "    print(f\"Recall   : {rec:.4f}\")\n",
    "    print(f\"F1 Score : {f1:.4f}\")\n",
    "     # Confusion matrix\n",
    "    cm = confusion_matrix(all_labels, all_preds)\n",
    "    plt.figure(figsize=(6, 5))\n",
    "    sns.heatmap(cm, annot=True, fmt='d', cmap='Blues', xticklabels=[\"Fake\", \"Real\"], yticklabels=[\"Fake\", \"Real\"])\n",
    "    plt.xlabel(\"Predicted Label\")\n",
    "    plt.ylabel(\"True Label\")\n",
    "    plt.title(title)\n",
    "    plt.show()"
   ]
  },
  {
   "cell_type": "code",
   "execution_count": 63,
   "id": "113e145a-b3fe-498f-a3fe-c4e1d003afb0",
   "metadata": {},
   "outputs": [
    {
     "name": "stderr",
     "output_type": "stream",
     "text": [
      "                                                                                                                       \r"
     ]
    },
    {
     "name": "stdout",
     "output_type": "stream",
     "text": [
      "Evaluation Metrics:\n",
      "Accuracy : 0.9976\n",
      "Precision: 0.9969\n",
      "Recall   : 0.9981\n",
      "F1 Score : 0.9975\n"
     ]
    },
    {
     "data": {
      "image/png": "[encoded data removed]",
      "text/plain": [
       "<Figure size 600x500 with 2 Axes>"
      ]
     },
     "metadata": {},
     "output_type": "display_data"
    }
   ],
   "source": [
    "evaluate_model(model, test_loader, device)"
   ]
  },
  {
   "cell_type": "code",
   "execution_count": 65,
   "id": "34f9fd0f-4c77-4806-a0ea-a8ff7339c2fe",
   "metadata": {},
   "outputs": [
    {
     "name": "stdout",
     "output_type": "stream",
     "text": [
      "Text: 21st Century Wire says Ben Stein, reputable professor from, Pepperdine University (also of some Holl...\n",
      "Predicted: 0, Actual: 0\n",
      "\n",
      "Text: WASHINGTON (Reuters) - U.S. President Donald Trump removed his chief strategist Steve Bannon from th...\n",
      "Predicted: 0, Actual: 0\n",
      "\n",
      "Text: (Reuters) - Puerto Rico Governor Ricardo Rossello said on Wednesday he expected the federal governme...\n",
      "Predicted: 1, Actual: 1\n",
      "\n",
      "Text: On Monday, Donald Trump once again embarrassed himself and his country by accidentally revealing the...\n",
      "Predicted: 1, Actual: 1\n",
      "\n",
      "Text: GLASGOW, Scotland (Reuters) - Most U.S. presidential candidates go abroad to sharpen their foreign p...\n",
      "Predicted: 0, Actual: 0\n",
      "\n"
     ]
    }
   ],
   "source": [
    "all_preds = []\n",
    "all_labels = []\n",
    "\n",
    "model.eval()\n",
    "with torch.no_grad():\n",
    "    for inputs, labels in val_loader:\n",
    "        inputs = inputs.to(device)\n",
    "        outputs = model(inputs)\n",
    "        preds = (outputs >= 0.5).float()\n",
    "        all_preds.extend(preds.cpu().numpy())\n",
    "        all_labels.extend(labels.cpu().numpy())\n",
    "\n",
    "for i in range(5):\n",
    "    print(f\"Text: {df.iloc[i]['text'][:100]}...\")  # or 'title' if you're using headlines\n",
    "    print(f\"Predicted: {int(all_preds[i])}, Actual: {int(all_labels[i])}\\n\")\n",
    "\n"
   ]
  },
  {
   "cell_type": "code",
   "execution_count": null,
   "id": "775524f2-b084-403c-90fb-4769f7b13cfc",
   "metadata": {},
   "outputs": [],
   "source": []
  }
 ],
 "metadata": {
  "kernelspec": {
   "display_name": "Python 3 (ipykernel)",
   "language": "python",
   "name": "python3"
  },
  "language_info": {
   "codemirror_mode": {
    "name": "ipython",
    "version": 3
   },
   "file_extension": ".py",
   "mimetype": "text/x-python",
   "name": "python",
   "nbconvert_exporter": "python",
   "pygments_lexer": "ipython3",
   "version": "3.12.7"
  }
 },
 "nbformat": 4,
 "nbformat_minor": 5
}
